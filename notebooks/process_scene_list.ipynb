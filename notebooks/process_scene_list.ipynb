{
 "cells": [
  {
   "cell_type": "markdown",
   "metadata": {},
   "source": [
    "# Get scene(sequence) list files for OR"
   ]
  },
  {
   "cell_type": "code",
   "execution_count": 7,
   "metadata": {},
   "outputs": [
    {
     "data": {
      "text/html": [
       "<style>.container { width:90% !important; }</style>"
      ],
      "text/plain": [
       "<IPython.core.display.HTML object>"
      ]
     },
     "metadata": {},
     "output_type": "display_data"
    },
    {
     "name": "stdout",
     "output_type": "stream",
     "text": [
      "500 263 ['mainDiffMat_xml/scene0621_00', 'mainDiffLight_xml1/scene0385_01', 'mainDiffMat_xml1/scene0629_00', 'main_xml/scene0418_02', 'mainDiffMat_xml1/scene0092_01']\n",
      "500 263 ['mainDiffMat_xml/scene0621_00', 'mainDiffLight_xml1/scene0385_01', 'mainDiffMat_xml1/scene0629_00', 'main_xml/scene0418_02', 'mainDiffMat_xml1/scene0092_01']\n"
     ]
    }
   ],
   "source": [
    "%reload_ext autoreload\n",
    "%autoreload 2\n",
    "from IPython.core.display import display, HTML\n",
    "display(HTML(\"<style>.container { width:90% !important; }</style>\"))\n",
    "\n",
    "from pathlib import Path\n",
    "\n",
    "# [1/2] full OR\n",
    "OR_frame_list_path = Path('/home/ruizhu/Documents/Projects/semanticInverse/train/data/openrooms/list_OR_V4full/list')\n",
    "OR_seq_list_path = Path('/home/ruizhu/Documents/Projects/nvidia/vidapp/code/list/OR_V4full')\n",
    "\n",
    "# [2/2] mini OR\n",
    "OR_frame_list_path = Path('/home/ruizhu/Documents/Projects/semanticInverse/train/data/openrooms/list_ORmini-val/list')\n",
    "OR_seq_list_path = Path('/home/ruizhu/Documents/Projects/nvidia/vidapp/code/list/ORmini-val')\n",
    "\n",
    "list_dict = {}\n",
    "for list_name in ['train', 'val']:\n",
    "# for list_name in ['train']:\n",
    "    OR_frame_list_file = OR_frame_list_path / ('%s.txt'%list_name)\n",
    "    list_read = open(OR_frame_list_file).readlines()\n",
    "    scene_list = []\n",
    "    for line in list_read:\n",
    "        line = line.strip()\n",
    "        line_split = line.split(' ')\n",
    "        meta_split = line_split[2].split('/')[0]\n",
    "        scene_name = line_split[2].split('/')[1]\n",
    "        scene_list.append('/'.join([meta_split, scene_name]))\n",
    "\n",
    "    scene_list = list(set(scene_list))\n",
    "    list_dict[list_name] = scene_list\n",
    "\n",
    "    print(len(list_read), len(scene_list), scene_list[:5])\n",
    "    \n",
    "    OR_seq_list_file = OR_seq_list_path / ('%s.txt'%list_name)\n",
    "\n",
    "    with open(str(OR_seq_list_file), 'w') as f:\n",
    "        for scene_entry in scene_list:\n",
    "            f.write('%s\\n' % scene_entry)\n"
   ]
  }
 ],
 "metadata": {
  "kernelspec": {
   "display_name": "Python 3",
   "language": "python",
   "name": "python3"
  },
  "language_info": {
   "codemirror_mode": {
    "name": "ipython",
    "version": 3
   },
   "file_extension": ".py",
   "mimetype": "text/x-python",
   "name": "python",
   "nbconvert_exporter": "python",
   "pygments_lexer": "ipython3",
   "version": "3.7.9"
  }
 },
 "nbformat": 4,
 "nbformat_minor": 2
}

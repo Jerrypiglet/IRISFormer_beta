{
 "cells": [
  {
   "cell_type": "code",
   "execution_count": 8,
   "metadata": {},
   "outputs": [
    {
     "data": {
      "text/plain": [
       "array([ 0,  1,  2,  3,  4,  5,  6,  7,  8,  9, 10, 11, 12, 13, 14, 15])"
      ]
     },
     "execution_count": 8,
     "metadata": {},
     "output_type": "execute_result"
    }
   ],
   "source": [
    "np.arange(envWidth)"
   ]
  },
  {
   "cell_type": "code",
   "execution_count": 7,
   "metadata": {},
   "outputs": [
    {
     "name": "stdout",
     "output_type": "stream",
     "text": [
      "[-0.4688 -0.4062 -0.3438 -0.2812 -0.2188 -0.1562 -0.0938 -0.0312  0.0312\n",
      "  0.0938  0.1562  0.2188  0.2812  0.3438  0.4062  0.4688]\n",
      "[0.0625 0.1875 0.3125 0.4375 0.5625 0.6875 0.8125 0.9375]\n"
     ]
    }
   ],
   "source": [
    "envWidth = 16\n",
    "envHeight = 8\n",
    "print(( (np.arange(envWidth) + 0.5) / envWidth - 0.5 ))\n",
    "print(( (np.arange(envHeight) + 0.5) / envHeight))"
   ]
  },
  {
   "cell_type": "code",
   "execution_count": 5,
   "metadata": {},
   "outputs": [
    {
     "data": {
      "text/html": [
       "<style>.container { width:90% !important; }</style>"
      ],
      "text/plain": [
       "<IPython.core.display.HTML object>"
      ]
     },
     "metadata": {},
     "output_type": "display_data"
    },
    {
     "name": "stdout",
     "output_type": "stream",
     "text": [
      "5664 ['scene0509_00', '1', 'mainDiffLight_xml1/scene0509_00/im_1.hdr', 'main_xml1/scene0509_00/imsemLabel_1.npy']\n"
     ]
    }
   ],
   "source": [
    "# borrowed from Total3D repo -> notebooks/parse_OR_labels-lighting-reindexed%2Bassigned-V4.ipynb\n",
    "import sys\n",
    "sys.path.insert(0, '/home/ruizhu/Documents/Projects/semanticInverse/train')\n",
    "\n",
    "import os\n",
    "import json\n",
    "\n",
    "%reload_ext autoreload\n",
    "%autoreload 2\n",
    "from IPython.core.display import display, HTML\n",
    "display(HTML(\"<style>.container { width:90% !important; }</style>\"))\n",
    "\n",
    "import matplotlib.pyplot as plt\n",
    "%matplotlib widget\n",
    "\n",
    "# dataset = 'sunrgbd'\n",
    "dataset = 'OR'\n",
    "\n",
    "mode = 'val'\n",
    "# mode = 'train'\n",
    "# mode = 'train-tmp'\n",
    "\n",
    "# split_path_dict = {'sunrgbd': 'data/sunrgbd/preprocessed', 'OR': 'utils_OR/openrooms/preprocessed-full'}\n",
    "split_path_dict = {'sunrgbd': 'data/sunrgbd/preprocessed', 'OR': '/home/ruizhu/Documents/Projects/semanticInverse/train/data/openrooms/list_OR_V4full/list'}\n",
    "\n",
    "if dataset == 'sunrgbd':\n",
    "    split_file = os.path.join(split_path_dict[dataset], mode + '.json')\n",
    "    with open(split_file) as file:\n",
    "        split = json.load(file)\n",
    "elif dataset == 'OR':\n",
    "    split_file = os.path.join(split_path_dict[dataset], mode + '.txt')\n",
    "    with open(split_file) as f:\n",
    "        mylist = f.read().splitlines() \n",
    "    split = [x.split(' ') for x in mylist]\n",
    "\n",
    "print(len(split), split[0])"
   ]
  },
  {
   "cell_type": "code",
   "execution_count": 38,
   "metadata": {},
   "outputs": [
    {
     "name": "stdout",
     "output_type": "stream",
     "text": [
      "/data/ruizhu/OR-V4full-detachEmitterRERE-OR45_total3D_train_test_data/mainDiffMat_xml1/scene0218_01/layout_obj_1_reindexed.pkl\n"
     ]
    }
   ],
   "source": [
    "import torch\n",
    "import numpy as np\n",
    "from pathlib import Path\n",
    "from utils.utils_total3D.utils_OR_visualize import format_layout, Box\n",
    "from utils.utils_total3D.data_config import OR4XCLASSES_dict, NYU40CLASSES\n",
    "from utils.utils_total3D.utils_others import OR4X_mapping_catInt_to_RGB, OR4X_mapping_catStr_to_RGB\n",
    "from utils.utils_total3D.utils_OR_vis_labels import read_vis_scene_3d, RGB_to_01\n",
    "import pickle\n",
    "\n",
    "OR = 'OR45'\n",
    "classes = OR4XCLASSES_dict[OR] if dataset == 'OR' else NYU40CLASSES\n",
    "with open(str(Path('../train/data/openrooms/total3D_colors/') / OR4X_mapping_catInt_to_RGB['light']), 'rb') as f:\n",
    "    OR_mapping_catInt_to_RGB = pickle.load(f)[OR]\n",
    "with open(str(Path('../train/data/openrooms/total3D_colors/') / OR4X_mapping_catStr_to_RGB['light']), 'rb') as f:\n",
    "    OR_mapping_catStr_to_RGB = pickle.load(f)[OR]\n",
    "\n",
    "import random\n",
    "image_id = random.randint(0, len(split))\n",
    "# image_id = 3\n",
    "pickle_path_ori = split[image_id]\n",
    "\n",
    "pickle_id = random.randint(0, len(split))\n",
    "pickle_id = 13\n",
    "naming = split[pickle_id][2]\n",
    "# naming = 'main_xml1/scene0552_00/im_1.hdr'\n",
    "# naming = 'main_xml1/scene0552_00/im_1.hdr'\n",
    "# naming = 'mainDiffLight_xml1/scene0017_02/im_4.hdr'\n",
    "# naming = 'mainDiffMat_xml1/scene0695_03/im_26.hdr'\n",
    "# pickle_path_ori = '/data/ruizhu/OR-V3-OR45_total3D_train_test_data/%06d.pkl'%pickle_id\n",
    "pickle_path_ori = '/data/ruizhu/OR-V4full-detachEmitterRERE-OR45_total3D_train_test_data/%s/%s/%s'%(naming.split('/')[0], naming.split('/')[1], naming.split('/')[2].replace('im', 'layout_obj').replace('hdr', 'pkl'))\n",
    "\n",
    "\n",
    "grid_size = 8\n",
    "\n",
    "pickle_path = pickle_path_ori.replace('.pkl', '_reindexed.pkl')\n",
    "pickle_emitters_path = pickle_path_ori.replace('.pkl', '_emitters.pkl')\n",
    "pickle_emitters_assign_info_list_path = pickle_path_ori.replace('.pkl', '_emitters_assign_info_%dX%d_V4.pkl'%(grid_size, grid_size))\n",
    "\n",
    "print(pickle_path)"
   ]
  },
  {
   "cell_type": "code",
   "execution_count": 39,
   "metadata": {},
   "outputs": [
    {
     "name": "stdout",
     "output_type": "stream",
     "text": [
      "dict_keys(['rgb_img_path', 'depth_map', 'boxes', 'camera', 'layout', 'scene_name', 'withinsequence_id', 'meta_split', 'meta_name', 'sub_name', 'scene_pickle_file', 'cam_pickle_file', 'frame_pickle_file', 'reindex_info_dict'])\n",
      "dict_keys(['sequence_name', 'withinsequence_id', 'boxes', 'emitter_random_ids']) scene0218_01 1\n",
      "dict_keys(['emitter2wall_assign_info_list', 'emitters_obj_list', 'wall_grid_prob', 'cell_prob_mean', 'cell_prob', 'cell_count', 'cell_info_grid'])\n"
     ]
    },
    {
     "data": {
      "application/vnd.jupyter.widget-view+json": {
       "model_id": "d26f1bfc8e604b22900335dd4567314f",
       "version_major": 2,
       "version_minor": 0
      },
      "text/plain": [
       "Canvas(toolbar=Toolbar(toolitems=[('Home', 'Reset original view', 'home', 'home'), ('Back', 'Back to previous …"
      ]
     },
     "metadata": {},
     "output_type": "display_data"
    },
    {
     "name": "stdout",
     "output_type": "stream",
     "text": [
      "[draw_projected_layout] Returned.\n",
      "[draw_projected_bdb3d] Returned.\n"
     ]
    },
    {
     "data": {
      "application/vnd.jupyter.widget-view+json": {
       "model_id": "d8a6342eaa8846ba81c4e50248f6ab67",
       "version_major": 2,
       "version_minor": 0
      },
      "text/plain": [
       "Canvas(toolbar=Toolbar(toolitems=[('Home', 'Reset original view', 'home', 'home'), ('Back', 'Back to previous …"
      ]
     },
     "metadata": {},
     "output_type": "display_data"
    }
   ],
   "source": [
    "import pickle\n",
    "with open(pickle_path, 'rb') as f:\n",
    "    sequence = pickle.load(f)\n",
    "print(sequence.keys())\n",
    "\n",
    "with open(pickle_emitters_path, 'rb') as f:\n",
    "    sequence_emitters = pickle.load(f)\n",
    "print(sequence_emitters.keys(), sequence_emitters['sequence_name'], sequence_emitters['withinsequence_id'])\n",
    "with open(pickle_emitters_assign_info_list_path, 'rb') as f:\n",
    "    sequence_emitter2wall_assign_info_dict = pickle.load(f)\n",
    "print(sequence_emitter2wall_assign_info_dict.keys())\n",
    "\n",
    "import pickle5 as pickle\n",
    "emitter_representation_type = '0ambient'\n",
    "emitters_prop_dict_representation_dict_path = pickle_path.replace('layout_obj', ('emitters_prop_dict_%s'%emitter_representation_type)).replace('_reindexed', '')\n",
    "with open(emitters_prop_dict_representation_dict_path, 'rb') as f:\n",
    "    emitters_prop_dict_representation_dict = pickle.load(f)\n",
    "\n",
    "\n",
    "%matplotlib widget\n",
    "\n",
    "gt_boxes_list = [format_layout(x) for x in sequence['boxes']['bdb3D']]\n",
    "for x, class_id in zip(gt_boxes_list, sequence['boxes']['size_cls']):\n",
    "    x.update({'class_id': class_id})\n",
    "gt_boxes_dict = {}\n",
    "for key in list(gt_boxes_list[0].keys()):\n",
    "    gt_boxes_dict[key] = [x[key] for x in gt_boxes_list]\n",
    "    \n",
    "gt_layout = sequence['layout']['bdb3D']\n",
    "\n",
    "from utils.utils_total3D.data_config import Dataset_Config\n",
    "from utils.utils_total3D.utils_OR_layout import to_dict_tensor\n",
    "\n",
    "from utils.utils_total3D.utils_OR_cam import get_rotation_matrix_gt\n",
    "\n",
    "OR = 'OR45'\n",
    "dataset_config = Dataset_Config(dataset, OR=OR, version='V3', paths={'total3D_lists_path': '../train/data/openrooms/list_OR_V4full', 'layout_emitter_path': '/data/ruizhu/OR-V4full-OR45_total3D_train_test_data'})\n",
    "bins_tensor = to_dict_tensor(dataset_config.bins, if_cuda=False)\n",
    "cam_R_gt = get_rotation_matrix_gt(bins_tensor,\n",
    "                                  torch.zeros([1]).long()+sequence['camera']['pitch_cls'], torch.zeros([1])+sequence['camera']['pitch_reg'],\n",
    "                                  torch.zeros([1]).long()+sequence['camera']['roll_cls'], torch.zeros([1])+sequence['camera']['roll_reg']).squeeze().numpy()\n",
    "\n",
    "# ======== emitters_list\n",
    "emitters_obj_list = []\n",
    "for x in range(sequence_emitters['boxes']['bdb3D'].shape[0]):\n",
    "    obj_dict_new = {'obj_box_3d': sequence_emitters['boxes']['bdb3D_emitter_part'][x], \\\n",
    "                    'emitter_prop': sequence_emitters['boxes']['emitter_prop'][x], \\\n",
    "                    'bdb3D_emitter_part': sequence_emitters['boxes']['bdb3D_emitter_part'][x], \\\n",
    "                    'cat_id': sequence_emitters['boxes']['size_cls'][x], \\\n",
    "                    'cat_name': classes[sequence_emitters['boxes']['size_cls'][x]], 'cat_color': RGB_to_01(OR_mapping_catInt_to_RGB[sequence_emitters['boxes']['size_cls'][x]])}\n",
    "    obj_random_id = sequence_emitters['boxes']['random_id'][x]\n",
    "    emitter_prop_total3d = emitters_prop_dict_representation_dict[obj_random_id]['emitter_prop_total3d']\n",
    "    if sequence_emitters['boxes']['emitter_prop'][x]['obj_type'] == 'window':\n",
    "        light_center_world_total3d = emitter_prop_total3d['light_center_world_total3d'].reshape(3, 1)\n",
    "        light_axis_world_total3d = emitter_prop_total3d['light_axis_world_total3d'].reshape(3, 1)\n",
    "    else:\n",
    "        light_center_world_total3d = np.zeros((3, 1), dtype=np.float32)\n",
    "        light_axis_world_total3d = np.zeros((3, 1), dtype=np.float32)\n",
    "    obj_dict_new['light_world_total3d_centeraxis'] = [light_center_world_total3d, light_axis_world_total3d]\n",
    "    \n",
    "    obj_dict_new['emitter_prop'].update({'emitter_rgb_float': emitter_prop_total3d['intensity']})\n",
    "\n",
    "    emitters_obj_list.append(obj_dict_new)\n",
    "    \n",
    "emitter2wall_assign_info_list = sequence_emitter2wall_assign_info_dict['emitter2wall_assign_info_list']\n",
    "cell_info_grid_GT_includeempty = sequence_emitter2wall_assign_info_dict['cell_info_grid']\n",
    "cell_info_grid_GT = []\n",
    "for wall_idx in range(6):\n",
    "    for i in range(grid_size):\n",
    "        for j in range(grid_size):\n",
    "            cell_info = cell_info_grid_GT_includeempty[wall_idx * grid_size**2 + i * grid_size + j]\n",
    "            if cell_info['obj_type'] is None:\n",
    "                continue\n",
    "            cell_info['wallidx_i_j'] = (wall_idx, i, j)\n",
    "            cell_info_grid_GT.append(cell_info)\n",
    "                \n",
    "            obj_random_id = cell_info['emitter_info']['random_id']\n",
    "            emitter_prop_total3d = emitters_prop_dict_representation_dict[obj_random_id]['emitter_prop_total3d']\n",
    "\n",
    "\n",
    "            cell_intensity = np.array([emitter_prop_total3d['intensity_scale'] * x * 255.for x in emitter_prop_total3d['intensity_scaled']]) # intensity_scaled: [0., 1.]\n",
    "            cell_info['emitter_info']['intensity_scalelog'] = np.log(np.clip(np.linalg.norm(cell_intensity.flatten()) + 1., 1., np.inf))\n",
    "            cell_info['emitter_info']['intensity'] = emitter_prop_total3d['intensity']\n",
    "            # print(cell_intensity[wall_idx, i, j], cell_info['emitter_info']['intensity'])\n",
    "            cell_info['emitter_info']['intensity_scale'] = emitter_prop_total3d['intensity_scale']\n",
    "            cell_info['emitter_info']['intensity_scaled'] = emitter_prop_total3d['intensity_scaled']\n",
    "\n",
    "            # other representation-specific params\n",
    "            if cell_info['obj_type'] == 'window':\n",
    "                cell_info['emitter_info']['lamb'] = emitter_prop_total3d['lamb']\n",
    "                cell_info['emitter_info']['light_dir_abs'] = emitter_prop_total3d['light_axis_world_total3d'].reshape(3,)\n",
    "                if emitter_representation_type in ['1ambient']:\n",
    "                    cell_info['emitter_info']['ambient'] = emitter_prop_total3d['ambient']\n",
    "                if emitter_representation_type in ['2ambient']:\n",
    "                    cell_info['emitter_info']['ambientL'] = emitter_prop_total3d['ambientL']\n",
    "                    cell_info['emitter_info']['ambientR'] = emitter_prop_total3d['ambientR']\n",
    "\n",
    "\n",
    "\n",
    "plt.figure(figsize=(15, 8))\n",
    "ax_2d = plt.gca()\n",
    "\n",
    "grid_prob = sequence_emitter2wall_assign_info_dict['wall_grid_prob'].reshape(6, -1)\n",
    "import imageio\n",
    "rgb_img = imageio.imread(sequence['rgb_img_path'])\n",
    "\n",
    "scene_box = Box(rgb_img, None, sequence['camera']['K'], cam_R_gt, None, gt_layout, None, gt_boxes_dict, None, 'GT', None, dataset=dataset, OR='OR45', \\\n",
    "                emitters_obj_list=emitters_obj_list, emitter2wall_assign_info_list=emitter2wall_assign_info_list, \\\n",
    "                emitter_cls_prob_PRED=np.random.random((6, grid_size**2)), emitter_cls_prob_GT=grid_prob, cell_info_grid_GT=cell_info_grid_GT, grid_size=grid_size, \\\n",
    "                paths={'color_file': '../train/data/openrooms/total3D_colors/OR4X_mapping_catInt_to_RGB_light.pkl'})\n",
    "if_use_plt=True\n",
    "img_map, _ = scene_box.draw_projected_layout('GT', return_plt=True, if_save=False, save_path='', if_use_plt=if_use_plt, fig_or_ax=ax_2d)\n",
    "img_map2 = scene_box.draw_projected_bdb3d('GT', return_plt=True, if_save=False, save_path='', if_use_plt=if_use_plt, fig_or_ax=ax_2d)\n",
    "# plt.show()\n",
    "\n",
    "fig_3d, ax_3ds_scene = scene_box.draw_3D_scene_plt('GT', if_show_objs=False)\n",
    "# ax_3d = ax_3ds[0]\n",
    "# ax_3d[0].view_init(elev=-46, azim=86)\n",
    "\n",
    "# %matplotlib widget\n",
    "# sys.path.insert(0, '/home/ruizhu/Documents/Projects/semanticInverse/train/SimpleLayout')\n",
    "# depth_combined, mask_conflict = scene_box.draw_projected_depth('GT', return_plt=True, if_save=False, save_path='', if_vis=True)\n"
   ]
  }
 ],
 "metadata": {
  "kernelspec": {
   "display_name": "Python [conda env:semanticInverse] *",
   "language": "python",
   "name": "conda-env-semanticInverse-py"
  },
  "language_info": {
   "codemirror_mode": {
    "name": "ipython",
    "version": 3
   },
   "file_extension": ".py",
   "mimetype": "text/x-python",
   "name": "python",
   "nbconvert_exporter": "python",
   "pygments_lexer": "ipython3",
   "version": "3.7.9"
  },
  "widgets": {
   "application/vnd.jupyter.widget-state+json": {
    "state": {
     "05135f4ba4cd401c97aba7c5b633a09e": {
      "model_module": "@jupyter-widgets/base",
      "model_module_version": "1.2.0",
      "model_name": "LayoutModel",
      "state": {}
     },
     "0f83533423d741e79e8098c942a79617": {
      "model_module": "@jupyter-widgets/base",
      "model_module_version": "1.2.0",
      "model_name": "LayoutModel",
      "state": {}
     },
     "10807dabebee426d86689210698832f7": {
      "model_module": "@jupyter-widgets/base",
      "model_module_version": "1.2.0",
      "model_name": "LayoutModel",
      "state": {}
     },
     "16d264f50eae44a8a694185da11c86f0": {
      "model_module": "@jupyter-widgets/base",
      "model_module_version": "1.2.0",
      "model_name": "LayoutModel",
      "state": {}
     },
     "1df80480965f4966a9fd482dc3ebfb4d": {
      "model_module": "@jupyter-widgets/base",
      "model_module_version": "1.2.0",
      "model_name": "LayoutModel",
      "state": {}
     },
     "20f57247f9c840c79f276a279a23adfc": {
      "model_module": "@jupyter-widgets/base",
      "model_module_version": "1.2.0",
      "model_name": "LayoutModel",
      "state": {}
     },
     "236a79af45eb4f7eb147346d7bef8099": {
      "model_module": "@jupyter-widgets/base",
      "model_module_version": "1.2.0",
      "model_name": "LayoutModel",
      "state": {}
     },
     "268d3fb16a724bceb758d19fa3236f96": {
      "model_module": "@jupyter-widgets/base",
      "model_module_version": "1.2.0",
      "model_name": "LayoutModel",
      "state": {}
     },
     "2d37be13a63443819892a63b090d0151": {
      "model_module": "jupyter-matplotlib",
      "model_module_version": "^0.8.3",
      "model_name": "ToolbarModel",
      "state": {
       "layout": "IPY_MODEL_05135f4ba4cd401c97aba7c5b633a09e",
       "toolitems": [
        [
         "Home",
         "Reset original view",
         "home",
         "home"
        ],
        [
         "Back",
         "Back to previous view",
         "arrow-left",
         "back"
        ],
        [
         "Forward",
         "Forward to next view",
         "arrow-right",
         "forward"
        ],
        [
         "Pan",
         "Left button pans, Right button zooms\nx/y fixes axis, CTRL fixes aspect",
         "arrows",
         "pan"
        ],
        [
         "Zoom",
         "Zoom to rectangle\nx/y fixes axis, CTRL fixes aspect",
         "square-o",
         "zoom"
        ],
        [
         "Download",
         "Download plot",
         "floppy-o",
         "save_figure"
        ]
       ]
      }
     },
     "35786fdcf11e4ab09a93475664ec3d8a": {
      "model_module": "jupyter-matplotlib",
      "model_module_version": "^0.8.3",
      "model_name": "ToolbarModel",
      "state": {
       "layout": "IPY_MODEL_60d38445302247a5b895bc7f422f82a9",
       "toolitems": [
        [
         "Home",
         "Reset original view",
         "home",
         "home"
        ],
        [
         "Back",
         "Back to previous view",
         "arrow-left",
         "back"
        ],
        [
         "Forward",
         "Forward to next view",
         "arrow-right",
         "forward"
        ],
        [
         "Pan",
         "Left button pans, Right button zooms\nx/y fixes axis, CTRL fixes aspect",
         "arrows",
         "pan"
        ],
        [
         "Zoom",
         "Zoom to rectangle\nx/y fixes axis, CTRL fixes aspect",
         "square-o",
         "zoom"
        ],
        [
         "Download",
         "Download plot",
         "floppy-o",
         "save_figure"
        ]
       ]
      }
     },
     "3584f4be61614c8a98233958cc8c5924": {
      "model_module": "jupyter-matplotlib",
      "model_module_version": "^0.8.3",
      "model_name": "ToolbarModel",
      "state": {
       "layout": "IPY_MODEL_10807dabebee426d86689210698832f7",
       "toolitems": [
        [
         "Home",
         "Reset original view",
         "home",
         "home"
        ],
        [
         "Back",
         "Back to previous view",
         "arrow-left",
         "back"
        ],
        [
         "Forward",
         "Forward to next view",
         "arrow-right",
         "forward"
        ],
        [
         "Pan",
         "Left button pans, Right button zooms\nx/y fixes axis, CTRL fixes aspect",
         "arrows",
         "pan"
        ],
        [
         "Zoom",
         "Zoom to rectangle\nx/y fixes axis, CTRL fixes aspect",
         "square-o",
         "zoom"
        ],
        [
         "Download",
         "Download plot",
         "floppy-o",
         "save_figure"
        ]
       ]
      }
     },
     "404280f109d24dafbfb78c724ffb1afe": {
      "model_module": "@jupyter-widgets/base",
      "model_module_version": "1.2.0",
      "model_name": "LayoutModel",
      "state": {}
     },
     "454255dfa730473a9558fdf5a2da6d1f": {
      "model_module": "jupyter-matplotlib",
      "model_module_version": "^0.8.3",
      "model_name": "ToolbarModel",
      "state": {
       "layout": "IPY_MODEL_b1ed5afff74f427a9245d80a70639263",
       "toolitems": [
        [
         "Home",
         "Reset original view",
         "home",
         "home"
        ],
        [
         "Back",
         "Back to previous view",
         "arrow-left",
         "back"
        ],
        [
         "Forward",
         "Forward to next view",
         "arrow-right",
         "forward"
        ],
        [
         "Pan",
         "Left button pans, Right button zooms\nx/y fixes axis, CTRL fixes aspect",
         "arrows",
         "pan"
        ],
        [
         "Zoom",
         "Zoom to rectangle\nx/y fixes axis, CTRL fixes aspect",
         "square-o",
         "zoom"
        ],
        [
         "Download",
         "Download plot",
         "floppy-o",
         "save_figure"
        ]
       ]
      }
     },
     "45ec6e0540cf4fd3a90b528d7ed763fc": {
      "model_module": "@jupyter-widgets/base",
      "model_module_version": "1.2.0",
      "model_name": "LayoutModel",
      "state": {}
     },
     "49fa87b91f394be298938f6e541cbcc0": {
      "model_module": "jupyter-matplotlib",
      "model_module_version": "^0.8.3",
      "model_name": "ToolbarModel",
      "state": {
       "layout": "IPY_MODEL_d3f6bdb8fdd9408b95329d8a038eb5fb",
       "toolitems": [
        [
         "Home",
         "Reset original view",
         "home",
         "home"
        ],
        [
         "Back",
         "Back to previous view",
         "arrow-left",
         "back"
        ],
        [
         "Forward",
         "Forward to next view",
         "arrow-right",
         "forward"
        ],
        [
         "Pan",
         "Left button pans, Right button zooms\nx/y fixes axis, CTRL fixes aspect",
         "arrows",
         "pan"
        ],
        [
         "Zoom",
         "Zoom to rectangle\nx/y fixes axis, CTRL fixes aspect",
         "square-o",
         "zoom"
        ],
        [
         "Download",
         "Download plot",
         "floppy-o",
         "save_figure"
        ]
       ]
      }
     },
     "4a93faaf70724083ada4d9c585863aed": {
      "model_module": "@jupyter-widgets/base",
      "model_module_version": "1.2.0",
      "model_name": "LayoutModel",
      "state": {}
     },
     "4ff694c9a5174cfebe0db08cd210e41f": {
      "model_module": "@jupyter-widgets/base",
      "model_module_version": "1.2.0",
      "model_name": "LayoutModel",
      "state": {}
     },
     "53bb6d63734f44f68d92d900d5117c2e": {
      "model_module": "jupyter-matplotlib",
      "model_module_version": "^0.8.3",
      "model_name": "ToolbarModel",
      "state": {
       "layout": "IPY_MODEL_c89a3e4c84b44005b42eef348053cd93",
       "toolitems": [
        [
         "Home",
         "Reset original view",
         "home",
         "home"
        ],
        [
         "Back",
         "Back to previous view",
         "arrow-left",
         "back"
        ],
        [
         "Forward",
         "Forward to next view",
         "arrow-right",
         "forward"
        ],
        [
         "Pan",
         "Left button pans, Right button zooms\nx/y fixes axis, CTRL fixes aspect",
         "arrows",
         "pan"
        ],
        [
         "Zoom",
         "Zoom to rectangle\nx/y fixes axis, CTRL fixes aspect",
         "square-o",
         "zoom"
        ],
        [
         "Download",
         "Download plot",
         "floppy-o",
         "save_figure"
        ]
       ]
      }
     },
     "60d38445302247a5b895bc7f422f82a9": {
      "model_module": "@jupyter-widgets/base",
      "model_module_version": "1.2.0",
      "model_name": "LayoutModel",
      "state": {}
     },
     "761ea9ba03a34153a7a45578b6209c2e": {
      "model_module": "@jupyter-widgets/base",
      "model_module_version": "1.2.0",
      "model_name": "LayoutModel",
      "state": {}
     },
     "7d306bc0f78f4947ba32289d64ce13ca": {
      "model_module": "jupyter-matplotlib",
      "model_module_version": "^0.8.3",
      "model_name": "MPLCanvasModel",
      "state": {
       "_cursor": "default",
       "_figure_label": "Figure 2",
       "_height": 800,
       "_width": 1500,
       "layout": "IPY_MODEL_ce7a1e4ff04a4467b2268b8c4c8f240a",
       "toolbar": "IPY_MODEL_82b3d21834ab46a2a929e7340d391d1d",
       "toolbar_position": "left"
      }
     },
     "82b3d21834ab46a2a929e7340d391d1d": {
      "model_module": "jupyter-matplotlib",
      "model_module_version": "^0.8.3",
      "model_name": "ToolbarModel",
      "state": {
       "layout": "IPY_MODEL_20f57247f9c840c79f276a279a23adfc",
       "toolitems": [
        [
         "Home",
         "Reset original view",
         "home",
         "home"
        ],
        [
         "Back",
         "Back to previous view",
         "arrow-left",
         "back"
        ],
        [
         "Forward",
         "Forward to next view",
         "arrow-right",
         "forward"
        ],
        [
         "Pan",
         "Left button pans, Right button zooms\nx/y fixes axis, CTRL fixes aspect",
         "arrows",
         "pan"
        ],
        [
         "Zoom",
         "Zoom to rectangle\nx/y fixes axis, CTRL fixes aspect",
         "square-o",
         "zoom"
        ],
        [
         "Download",
         "Download plot",
         "floppy-o",
         "save_figure"
        ]
       ]
      }
     },
     "8ac81848d3a3430a957261ea01635a44": {
      "model_module": "@jupyter-widgets/base",
      "model_module_version": "1.2.0",
      "model_name": "LayoutModel",
      "state": {}
     },
     "9039317e072440308700aa908cb4b34a": {
      "model_module": "jupyter-matplotlib",
      "model_module_version": "^0.8.3",
      "model_name": "ToolbarModel",
      "state": {
       "layout": "IPY_MODEL_d5bbf15d997f494fa04f278bb913d886",
       "toolitems": [
        [
         "Home",
         "Reset original view",
         "home",
         "home"
        ],
        [
         "Back",
         "Back to previous view",
         "arrow-left",
         "back"
        ],
        [
         "Forward",
         "Forward to next view",
         "arrow-right",
         "forward"
        ],
        [
         "Pan",
         "Left button pans, Right button zooms\nx/y fixes axis, CTRL fixes aspect",
         "arrows",
         "pan"
        ],
        [
         "Zoom",
         "Zoom to rectangle\nx/y fixes axis, CTRL fixes aspect",
         "square-o",
         "zoom"
        ],
        [
         "Download",
         "Download plot",
         "floppy-o",
         "save_figure"
        ]
       ]
      }
     },
     "908b9b5f02de43a094bc5088d6150638": {
      "model_module": "@jupyter-widgets/base",
      "model_module_version": "1.2.0",
      "model_name": "LayoutModel",
      "state": {}
     },
     "9bfe313e1b3441b2b5b57b5d7f4f376e": {
      "model_module": "@jupyter-widgets/base",
      "model_module_version": "1.2.0",
      "model_name": "LayoutModel",
      "state": {}
     },
     "a0daffd92753444bbfdb95bcdcfbfcd8": {
      "model_module": "@jupyter-widgets/base",
      "model_module_version": "1.2.0",
      "model_name": "LayoutModel",
      "state": {}
     },
     "a572d087f5e24178acc170142ac0e446": {
      "model_module": "@jupyter-widgets/base",
      "model_module_version": "1.2.0",
      "model_name": "LayoutModel",
      "state": {}
     },
     "b1ed5afff74f427a9245d80a70639263": {
      "model_module": "@jupyter-widgets/base",
      "model_module_version": "1.2.0",
      "model_name": "LayoutModel",
      "state": {}
     },
     "b5cc68f7a3bc4823a46ad2281e50533c": {
      "model_module": "@jupyter-widgets/base",
      "model_module_version": "1.2.0",
      "model_name": "LayoutModel",
      "state": {}
     },
     "b6472d4733944922bc9d65172080a08d": {
      "model_module": "jupyter-matplotlib",
      "model_module_version": "^0.8.3",
      "model_name": "ToolbarModel",
      "state": {
       "layout": "IPY_MODEL_b5cc68f7a3bc4823a46ad2281e50533c",
       "toolitems": [
        [
         "Home",
         "Reset original view",
         "home",
         "home"
        ],
        [
         "Back",
         "Back to previous view",
         "arrow-left",
         "back"
        ],
        [
         "Forward",
         "Forward to next view",
         "arrow-right",
         "forward"
        ],
        [
         "Pan",
         "Left button pans, Right button zooms\nx/y fixes axis, CTRL fixes aspect",
         "arrows",
         "pan"
        ],
        [
         "Zoom",
         "Zoom to rectangle\nx/y fixes axis, CTRL fixes aspect",
         "square-o",
         "zoom"
        ],
        [
         "Download",
         "Download plot",
         "floppy-o",
         "save_figure"
        ]
       ]
      }
     },
     "bbc3f50a074945858d070a5ac40da310": {
      "model_module": "jupyter-matplotlib",
      "model_module_version": "^0.8.3",
      "model_name": "ToolbarModel",
      "state": {
       "layout": "IPY_MODEL_761ea9ba03a34153a7a45578b6209c2e",
       "toolitems": [
        [
         "Home",
         "Reset original view",
         "home",
         "home"
        ],
        [
         "Back",
         "Back to previous view",
         "arrow-left",
         "back"
        ],
        [
         "Forward",
         "Forward to next view",
         "arrow-right",
         "forward"
        ],
        [
         "Pan",
         "Left button pans, Right button zooms\nx/y fixes axis, CTRL fixes aspect",
         "arrows",
         "pan"
        ],
        [
         "Zoom",
         "Zoom to rectangle\nx/y fixes axis, CTRL fixes aspect",
         "square-o",
         "zoom"
        ],
        [
         "Download",
         "Download plot",
         "floppy-o",
         "save_figure"
        ]
       ]
      }
     },
     "c255f0a4d7ea43fd8ea220811d250c37": {
      "model_module": "jupyter-matplotlib",
      "model_module_version": "^0.8.3",
      "model_name": "MPLCanvasModel",
      "state": {
       "_cursor": "default",
       "_figure_label": "Figure 1",
       "_height": 800,
       "_width": 1500,
       "layout": "IPY_MODEL_4ff694c9a5174cfebe0db08cd210e41f",
       "toolbar": "IPY_MODEL_2d37be13a63443819892a63b090d0151",
       "toolbar_position": "left"
      }
     },
     "c89a3e4c84b44005b42eef348053cd93": {
      "model_module": "@jupyter-widgets/base",
      "model_module_version": "1.2.0",
      "model_name": "LayoutModel",
      "state": {}
     },
     "cc34f67d095e4ba79ad8ec1b8713fa49": {
      "model_module": "jupyter-matplotlib",
      "model_module_version": "^0.8.3",
      "model_name": "ToolbarModel",
      "state": {
       "layout": "IPY_MODEL_ce42502294e54473b45a0360dba88b25",
       "toolitems": [
        [
         "Home",
         "Reset original view",
         "home",
         "home"
        ],
        [
         "Back",
         "Back to previous view",
         "arrow-left",
         "back"
        ],
        [
         "Forward",
         "Forward to next view",
         "arrow-right",
         "forward"
        ],
        [
         "Pan",
         "Left button pans, Right button zooms\nx/y fixes axis, CTRL fixes aspect",
         "arrows",
         "pan"
        ],
        [
         "Zoom",
         "Zoom to rectangle\nx/y fixes axis, CTRL fixes aspect",
         "square-o",
         "zoom"
        ],
        [
         "Download",
         "Download plot",
         "floppy-o",
         "save_figure"
        ]
       ]
      }
     },
     "ce42502294e54473b45a0360dba88b25": {
      "model_module": "@jupyter-widgets/base",
      "model_module_version": "1.2.0",
      "model_name": "LayoutModel",
      "state": {}
     },
     "ce7a1e4ff04a4467b2268b8c4c8f240a": {
      "model_module": "@jupyter-widgets/base",
      "model_module_version": "1.2.0",
      "model_name": "LayoutModel",
      "state": {}
     },
     "d18faa6498d64338a98b132f45d69c3c": {
      "model_module": "@jupyter-widgets/base",
      "model_module_version": "1.2.0",
      "model_name": "LayoutModel",
      "state": {}
     },
     "d3f6bdb8fdd9408b95329d8a038eb5fb": {
      "model_module": "@jupyter-widgets/base",
      "model_module_version": "1.2.0",
      "model_name": "LayoutModel",
      "state": {}
     },
     "d5bbf15d997f494fa04f278bb913d886": {
      "model_module": "@jupyter-widgets/base",
      "model_module_version": "1.2.0",
      "model_name": "LayoutModel",
      "state": {}
     },
     "d6a1bda21e774af194e69c84901d13ee": {
      "model_module": "jupyter-matplotlib",
      "model_module_version": "^0.8.3",
      "model_name": "ToolbarModel",
      "state": {
       "layout": "IPY_MODEL_268d3fb16a724bceb758d19fa3236f96",
       "toolitems": [
        [
         "Home",
         "Reset original view",
         "home",
         "home"
        ],
        [
         "Back",
         "Back to previous view",
         "arrow-left",
         "back"
        ],
        [
         "Forward",
         "Forward to next view",
         "arrow-right",
         "forward"
        ],
        [
         "Pan",
         "Left button pans, Right button zooms\nx/y fixes axis, CTRL fixes aspect",
         "arrows",
         "pan"
        ],
        [
         "Zoom",
         "Zoom to rectangle\nx/y fixes axis, CTRL fixes aspect",
         "square-o",
         "zoom"
        ],
        [
         "Download",
         "Download plot",
         "floppy-o",
         "save_figure"
        ]
       ]
      }
     },
     "daf3a2b098d14cc99d9b193ea6d92cad": {
      "model_module": "jupyter-matplotlib",
      "model_module_version": "^0.8.3",
      "model_name": "ToolbarModel",
      "state": {
       "layout": "IPY_MODEL_1df80480965f4966a9fd482dc3ebfb4d",
       "toolitems": [
        [
         "Home",
         "Reset original view",
         "home",
         "home"
        ],
        [
         "Back",
         "Back to previous view",
         "arrow-left",
         "back"
        ],
        [
         "Forward",
         "Forward to next view",
         "arrow-right",
         "forward"
        ],
        [
         "Pan",
         "Left button pans, Right button zooms\nx/y fixes axis, CTRL fixes aspect",
         "arrows",
         "pan"
        ],
        [
         "Zoom",
         "Zoom to rectangle\nx/y fixes axis, CTRL fixes aspect",
         "square-o",
         "zoom"
        ],
        [
         "Download",
         "Download plot",
         "floppy-o",
         "save_figure"
        ]
       ]
      }
     },
     "dfacc7d410ea4114b8303e08f2abc5b4": {
      "model_module": "jupyter-matplotlib",
      "model_module_version": "^0.8.3",
      "model_name": "ToolbarModel",
      "state": {
       "layout": "IPY_MODEL_d18faa6498d64338a98b132f45d69c3c",
       "toolitems": [
        [
         "Home",
         "Reset original view",
         "home",
         "home"
        ],
        [
         "Back",
         "Back to previous view",
         "arrow-left",
         "back"
        ],
        [
         "Forward",
         "Forward to next view",
         "arrow-right",
         "forward"
        ],
        [
         "Pan",
         "Left button pans, Right button zooms\nx/y fixes axis, CTRL fixes aspect",
         "arrows",
         "pan"
        ],
        [
         "Zoom",
         "Zoom to rectangle\nx/y fixes axis, CTRL fixes aspect",
         "square-o",
         "zoom"
        ],
        [
         "Download",
         "Download plot",
         "floppy-o",
         "save_figure"
        ]
       ]
      }
     },
     "f16943907be04781b0fe880a53c03473": {
      "model_module": "@jupyter-widgets/base",
      "model_module_version": "1.2.0",
      "model_name": "LayoutModel",
      "state": {}
     }
    },
    "version_major": 2,
    "version_minor": 0
   }
  }
 },
 "nbformat": 4,
 "nbformat_minor": 4
}

{
 "cells": [
  {
   "cell_type": "markdown",
   "id": "f69ae6e2",
   "metadata": {},
   "source": [
    "# Zhengqin's new lighting GT"
   ]
  },
  {
   "cell_type": "code",
   "execution_count": 6,
   "id": "f86270ae",
   "metadata": {},
   "outputs": [
    {
     "data": {
      "text/html": [
       "<style>.container { width:90% !important; }</style>"
      ],
      "text/plain": [
       "<IPython.core.display.HTML object>"
      ]
     },
     "metadata": {},
     "output_type": "display_data"
    }
   ],
   "source": [
    "# borrowed from Total3D repo -> notebooks/parse_OR_labels-lighting-reindexed%2Bassigned-V4.ipynb\n",
    "import sys\n",
    "sys.path.insert(0, '/home/ruizhu/Documents/Projects/semanticInverse/train')\n",
    "\n",
    "import os\n",
    "import json\n",
    "\n",
    "%reload_ext autoreload\n",
    "%autoreload 2\n",
    "from IPython.core.display import display, HTML\n",
    "display(HTML(\"<style>.container { width:90% !important; }</style>\"))\n",
    "\n",
    "import matplotlib.pyplot as plt\n",
    "%matplotlib widget\n",
    "import pickle\n",
    "\n",
    "light_file = '/home/ruizhu/Downloads/light_1/lightSrc1.dat'\n",
    "with open(light_file, 'rb') as fIn:\n",
    "    light_dat = pickle.load(fIn) # {'intensity': array([380.588, 363.119, 391.177], dtype=float32), 'lamb': 0.0, 'axis': array([0., 1., 0.], dtype=float32)}\n"
   ]
  },
  {
   "cell_type": "code",
   "execution_count": 7,
   "id": "46c0d307",
   "metadata": {},
   "outputs": [
    {
     "data": {
      "text/plain": [
       "{'intensity': array([69461.15, 62496.8 , 24607.49], dtype=float32),\n",
       " 'axis': array([ 0.17516978,  0.330804  , -0.92729944], dtype=float32),\n",
       " 'lamb': array([133.7623], dtype=float32),\n",
       " 'intensitySky': array([ 5.7091794,  8.262537 , 14.608884 ], dtype=float32),\n",
       " 'axisSky': array([ 0.01608858,  0.50249827, -0.8644285 ], dtype=float32),\n",
       " 'lambSky': array([2.4238377], dtype=float32),\n",
       " 'intensityGrd': array([4.789962, 6.090284, 8.508335], dtype=float32),\n",
       " 'axisGrd': array([ 0.90468186,  0.36211362, -0.22455412], dtype=float32),\n",
       " 'lambGrd': array([1.968324], dtype=float32),\n",
       " 'loss': 0.027112094685435295,\n",
       " 'scale': 0.9612648221343874}"
      ]
     },
     "execution_count": 7,
     "metadata": {},
     "output_type": "execute_result"
    }
   ],
   "source": [
    "light_dat"
   ]
  }
 ],
 "metadata": {
  "kernelspec": {
   "display_name": "Python 3 (ipykernel)",
   "language": "python",
   "name": "python3"
  },
  "language_info": {
   "codemirror_mode": {
    "name": "ipython",
    "version": 3
   },
   "file_extension": ".py",
   "mimetype": "text/x-python",
   "name": "python",
   "nbconvert_exporter": "python",
   "pygments_lexer": "ipython3",
   "version": "3.8.0"
  }
 },
 "nbformat": 4,
 "nbformat_minor": 5
}
